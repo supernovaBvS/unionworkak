{
 "cells": [
  {
   "cell_type": "code",
   "execution_count": 1,
   "metadata": {},
   "outputs": [],
   "source": [
    "import pandas as pd"
   ]
  },
  {
   "cell_type": "code",
   "execution_count": 2,
   "metadata": {},
   "outputs": [],
   "source": [
    "df = pd.read_csv('/Users/dev/Desktop/union_work/apple device support/asm ipad/IPAD 042723.csv', header=None)"
   ]
  },
  {
   "cell_type": "code",
   "execution_count": 3,
   "metadata": {},
   "outputs": [],
   "source": [
    "df = df.iloc[:, 0:2]"
   ]
  },
  {
   "cell_type": "code",
   "execution_count": 14,
   "metadata": {},
   "outputs": [
    {
     "data": {
      "text/plain": [
       "0     KW9JVDY396\n",
       "1     R6H27DP9Q4\n",
       "2     WHJG91QHGW\n",
       "3     L2RLW70LV4\n",
       "4     QYPLWNN7LQ\n",
       "5            NaN\n",
       "6     C5WR52NQJG\n",
       "7     WJL2595PJ9\n",
       "8     NQHGXN7PQ6\n",
       "9     C96VLXHKXP\n",
       "10    DT730MQX25\n",
       "11           NaN\n",
       "12    JCQL6M9VRX\n",
       "13    H19WHVJK30\n",
       "14    G67D9T3QVY\n",
       "15    RM456TL4HK\n",
       "16    R29NJ5T2DN\n",
       "17           NaN\n",
       "18    D5P70KKWXG\n",
       "19    LM4V5C3QGO\n",
       "20    MVQL64H6VF\n",
       "21    WOJ76VX769\n",
       "22    DQ02RLYGQL\n",
       "23           NaN\n",
       "24    QRP9TJCY60\n",
       "25     CM6QF4YTH\n",
       "26    QG003QR6DL\n",
       "27    HWF12MQ2TT\n",
       "28    NTH47C0416\n",
       "29           NaN\n",
       "30    HRWRFJ9D9G\n",
       "31    PXYPYCPV4Q\n",
       "32    F1WTQWX74N\n",
       "33    VJLGX0XCJ7\n",
       "34    XF6F0XMWPX\n",
       "35           NaN\n",
       "36    QWWOCWR2VD\n",
       "37    GCP61V4TMW\n",
       "38    V5MV2KXYWC\n",
       "39    GXNM7NXWPW\n",
       "40    JDXH50HQKF\n",
       "41           NaN\n",
       "42    CXLJTH64GP\n",
       "43    F7YW9WK1VP\n",
       "44    YVL77XK3YV\n",
       "45    HXGC440017\n",
       "46    WV4YH9T2X1\n",
       "Name: 0, dtype: object"
      ]
     },
     "execution_count": 14,
     "metadata": {},
     "output_type": "execute_result"
    }
   ],
   "source": [
    "df[0]"
   ]
  },
  {
   "cell_type": "code",
   "execution_count": 4,
   "metadata": {},
   "outputs": [],
   "source": [
    "df0 = df[0].sort_values().dropna()\n",
    "df1 = df[1].sort_values().dropna()"
   ]
  },
  {
   "cell_type": "code",
   "execution_count": 9,
   "metadata": {},
   "outputs": [
    {
     "data": {
      "text/plain": [
       "6     C5WR52NQJG\n",
       "9     C96VLXHKXP\n",
       "25     CM6QF4YTH\n",
       "42    CXLJTH64GP\n",
       "18    D5P70KKWXG\n",
       "22    DQ02RLYGQL\n",
       "10    DT730MQX25\n",
       "32    F1WTQWX74N\n",
       "43    F7YW9WK1VP\n",
       "14    G67D9T3QVY\n",
       "37    GCP61V4TMW\n",
       "39    GXNM7NXWPW\n",
       "13    H19WHVJK30\n",
       "30    HRWRFJ9D9G\n",
       "27    HWF12MQ2TT\n",
       "45    HXGC440017\n",
       "12    JCQL6M9VRX\n",
       "40    JDXH50HQKF\n",
       "0     KW9JVDY396\n",
       "3     L2RLW70LV4\n",
       "19    LM4V5C3QGO\n",
       "20    MVQL64H6VF\n",
       "8     NQHGXN7PQ6\n",
       "28    NTH47C0416\n",
       "31    PXYPYCPV4Q\n",
       "26    QG003QR6DL\n",
       "24    QRP9TJCY60\n",
       "36    QWWOCWR2VD\n",
       "4     QYPLWNN7LQ\n",
       "16    R29NJ5T2DN\n",
       "1     R6H27DP9Q4\n",
       "15    RM456TL4HK\n",
       "38    V5MV2KXYWC\n",
       "33    VJLGX0XCJ7\n",
       "2     WHJG91QHGW\n",
       "7     WJL2595PJ9\n",
       "21    WOJ76VX769\n",
       "46    WV4YH9T2X1\n",
       "34    XF6F0XMWPX\n",
       "44    YVL77XK3YV\n",
       "Name: 0, dtype: object"
      ]
     },
     "execution_count": 9,
     "metadata": {},
     "output_type": "execute_result"
    }
   ],
   "source": [
    "df0"
   ]
  },
  {
   "cell_type": "code",
   "execution_count": null,
   "metadata": {},
   "outputs": [],
   "source": []
  }
 ],
 "metadata": {
  "kernelspec": {
   "display_name": "ml",
   "language": "python",
   "name": "python3"
  },
  "language_info": {
   "codemirror_mode": {
    "name": "ipython",
    "version": 3
   },
   "file_extension": ".py",
   "mimetype": "text/x-python",
   "name": "python",
   "nbconvert_exporter": "python",
   "pygments_lexer": "ipython3",
   "version": "3.9.15"
  },
  "orig_nbformat": 4
 },
 "nbformat": 4,
 "nbformat_minor": 2
}
